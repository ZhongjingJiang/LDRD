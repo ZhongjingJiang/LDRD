{
 "cells": [
  {
   "cell_type": "code",
   "execution_count": null,
   "id": "8bbf9d4f",
   "metadata": {},
   "outputs": [],
   "source": [
    "using Sobol\n",
    "using CSV\n",
    "using Tables\n",
    "using Random\n",
    "using Plots\n",
    "using DataFrames\n",
    "using LinearAlgebra\n",
    "using QuasiMonteCarlo"
   ]
  },
  {
   "cell_type": "code",
   "execution_count": null,
   "id": "1828cfae",
   "metadata": {},
   "outputs": [],
   "source": [
    "# Fixed random seed (for reproducability)\n",
    "Random.seed!(101)"
   ]
  },
  {
   "cell_type": "code",
   "execution_count": null,
   "id": "3527b3af",
   "metadata": {},
   "outputs": [],
   "source": [
    "N_params = 26 # Number of parameters\n",
    "lb = [0 for i in 1:N_params] # Lower bound (normalized)\n",
    "ub = [1 for i in 1:N_params] # Upper bound (normalized)\n",
    "N_data = 2600 #Number of space-filling points to generate\n",
    "\n",
    "s = QuasiMonteCarlo.sample(N_data,lb,ub,QuasiMonteCarlo.SobolSample())'\n",
    "CSV.write(\"./sobol_sequence_ensemble_2600_QuasiMonteCarlo_test1.txt\", Tables.table(s2), writeheader=false)\n",
    "\n",
    "# Optionally plot 2 dimensions of the ensemble to visualize\n",
    "scatter(s[:,1], s[:,2], xlabel=\"p1\", ylabel=\"p2\", title=\"Sobol Sequence Samples\", legend=false, grid=false, framestyle=:box)"
   ]
  },
  {
   "cell_type": "code",
   "execution_count": null,
   "id": "096336f2",
   "metadata": {},
   "outputs": [],
   "source": [
    "elements = [\"flnr\",\"slatop\",\"dleaf\",\"dsladlai\",\"leaf_long\",\"s_vc\",\"bbbopt\",\"mbbopt\",\"smpsc\",\"smpso\",\"rholvis\",\"rholnir\",\"taulvis\",\n",
    "            \"taulnir\",\"rhosvis\",\"rhosnir\",\"xl\",\"displar\",\"z0mr\",\"vcmaxha\",\"vcmaxhd\",\"jmaxha\",\"jmaxhd\",\"roota_par\",\"rootb_par\",\"grperc\"]\n",
    "p_hard = (  flnr =      [0.04, 0.3],                         \n",
    "            slatop =    [0.003, 0.03],\n",
    "            dleaf =     [0.03, 0.3],\n",
    "            dsladlai =  [0.0002, 0.0035],\n",
    "            leaf_long = [1.0, 12.0],\n",
    "            s_vc =      [16.0,32.0],\n",
    "            bbbopt =    [16000.0,60000.0],\n",
    "            mbbopt =    [4.5, 15],\n",
    "            smpsc =     [-642000.0, -125000.0],\n",
    "            smpso =     [-125000.0, -17500.0],\n",
    "            rholvis =   [0.025, 0.25],\n",
    "            rholnir =   [0.25,0.55],\n",
    "            taulvis =   [0.005,0.20],\n",
    "            taulnir =   [0.15,0.45],\n",
    "            rhosvis =   [0.05,0.30],\n",
    "            rhosnir =   [0.20,0.75],\n",
    "            xl =        [-0.5,0.375],\n",
    "            displar =   [0.6,0.85],\n",
    "            z0mr =      [0.04,0.09],\n",
    "            vcmaxha =   [45000.0,90000.0],\n",
    "            vcmaxhd =   [198000.0, 202000.0],\n",
    "            jmaxha =    [30000.0,65000.0],\n",
    "            jmaxhd =    [198000.0, 202000.0],\n",
    "            roota_par = [2.0,18.0],\n",
    "            rootb_par = [0.5,6.0],\n",
    "            grperc =    [0.125,0.375] );\n",
    "\n",
    "p_hard = [getproperty(p_hard, pn) for pn in propertynames(p_hard)];\n",
    "p_hard_l = mapreduce(permutedims, vcat, p_hard)[:, 1];\n",
    "p_hard_u = mapreduce(permutedims, vcat, p_hard)[:, 2];"
   ]
  },
  {
   "cell_type": "code",
   "execution_count": null,
   "id": "cade3940",
   "metadata": {},
   "outputs": [],
   "source": [
    "ensembles0 = CSV.read(\"./sobol_sequence_ensemble_2600_QuasiMonteCarlo_1.txt\", DataFrame; header = false, transpose=true);\n",
    "ensembles0 = Matrix(ensembles0);\n",
    "ensembles = ensembles0 .*(p_hard_u .- p_hard_l).+p_hard_l\n",
    "CSV.write(\"./sobol_sequence_ensemble_2600_QMC_para_0.txt\", Tables.table(ensembles'), writeheader=false)"
   ]
  },
  {
   "cell_type": "code",
   "execution_count": null,
   "id": "22be2877",
   "metadata": {},
   "outputs": [],
   "source": [
    "X=ensembles0'\n",
    "println(size(X))\n",
    "#n_cols = size(X, 2)\n",
    "n_cols=3\n",
    "p = plot(layout=(n_cols,n_cols), legend=false,size=(1000, 1000))\n",
    "for i in 1:n_cols\n",
    "    for j in 1:n_cols\n",
    "            plot!(p[i,j], X[:,i], X[:,j], seriestype=:scatter,markersize = 1)\n",
    "    end\n",
    "end\n",
    "    savefig(p,\"scatter_s1_2600.pdf\")\n",
    "# Display plot\n",
    "display(p)"
   ]
  }
 ],
 "metadata": {
  "kernelspec": {
   "display_name": "Julia 1.8.2",
   "language": "julia",
   "name": "julia-1.8"
  },
  "language_info": {
   "file_extension": ".jl",
   "mimetype": "application/julia",
   "name": "julia",
   "version": "1.8.2"
  }
 },
 "nbformat": 4,
 "nbformat_minor": 5
}
